{
 "cells": [
  {
   "cell_type": "markdown",
   "metadata": {},
   "source": [
    "# Plot results"
   ]
  },
  {
   "cell_type": "code",
   "execution_count": 1,
   "metadata": {
    "scrolled": true
   },
   "outputs": [],
   "source": [
    "# If first time running this code on a personal computer\n",
    "# using Pkg\n",
    "# Pkg.instantiate()"
   ]
  },
  {
   "cell_type": "markdown",
   "metadata": {},
   "source": [
    "### Script Initialization"
   ]
  },
  {
   "cell_type": "code",
   "execution_count": 2,
   "metadata": {
    "scrolled": true
   },
   "outputs": [
    {
     "data": {
      "text/plain": [
       "DubinsFree(4, 1, Any[], Any[], Any[], 0, 0, [0.0, 0.0, 0.0], [2.0, 3.0, 0.0], 3.0, 1.0, [-100.0, -100.0, -6.283185307179586], [100.0, 100.0, 6.283185307179586], 1.0, 2.0, true, false, 0.05, Any[Any[[0.8, 2.0], 0.5]], Any[], 5000.0, 3.0, 5000.0, 1.0e6, 0.001, 0.0, 0.001)"
      ]
     },
     "execution_count": 2,
     "metadata": {},
     "output_type": "execute_result"
    }
   ],
   "source": [
    "# Initializing script\n",
    "using LinearAlgebra\n",
    "using Ipopt\n",
    "using JuMP\n",
    "using NLsolve\n",
    "using JLD\n",
    "\n",
    "include(\"./Models/dubins_free.jl\")\n",
    "include(\"./SCP/scp_problem.jl\")\n",
    "include(\"./SCP/scp_alg.jl\")\n",
    "include(\"./utils/dubins_plotting.jl\")\n",
    "\n",
    "model = DubinsFree()"
   ]
  },
  {
   "cell_type": "markdown",
   "metadata": {},
   "source": [
    "## Fixed final angle"
   ]
  },
  {
   "cell_type": "markdown",
   "metadata": {},
   "source": [
    "### Import data"
   ]
  },
  {
   "cell_type": "code",
   "execution_count": 3,
   "metadata": {},
   "outputs": [
    {
     "data": {
      "text/plain": [
       "extract_saved_SCP_results (generic function with 1 method)"
      ]
     },
     "execution_count": 3,
     "metadata": {},
     "output_type": "execute_result"
    }
   ],
   "source": [
    "function extract_saved_SCP_results(filename)\n",
    "    d = load(filename)\n",
    "    return (d[\"X_MC\"],d[\"U_MC\"],d[\"P0_MC\"],d[\"succ_MC\"],d[\"it_MC\"],d[\"tr_sat_MC\"],length(d[\"it_MC\"]))\n",
    "end"
   ]
  },
  {
   "cell_type": "code",
   "execution_count": 4,
   "metadata": {},
   "outputs": [
    {
     "name": "stdout",
     "output_type": "stream",
     "text": [
      "SCP only: Success: 100 / 100, Nb. itr: mean=8.06\n",
      "Shooting: Success: 100 / 100, Nb. itr: mean=5.88\n",
      "Data loaded !\n"
     ]
    }
   ],
   "source": [
    "fn_scp = \"./results/dubins/free_tf/fixed_final_theta/SCP_only.jld\"\n",
    "_, _, _, succ_scp, it_scp, tr_scp, N_MC = extract_saved_SCP_results(fn_scp)\n",
    "println(\"SCP only: Success: $(sum(succ_scp)) / $N_MC, Nb. itr: mean=$(mean(it_scp))\")\n",
    "\n",
    "fn_shoot = \"./results/dubins/free_tf/fixed_final_theta/SCP_shooting.jld\"\n",
    "_, _, _, succ_shoot, it_shoot, _, N_MC = extract_saved_SCP_results(fn_shoot)\n",
    "println(\"Shooting: Success: $(sum(succ_shoot)) / $N_MC, Nb. itr: mean=$(mean(it_shoot))\")\n",
    "\n",
    "println(\"Data loaded !\")"
   ]
  },
  {
   "cell_type": "code",
   "execution_count": 5,
   "metadata": {},
   "outputs": [
    {
     "data": {
      "text/plain": [
       "100"
      ]
     },
     "execution_count": 5,
     "metadata": {},
     "output_type": "execute_result"
    }
   ],
   "source": [
    "sum(tr_scp)"
   ]
  },
  {
   "cell_type": "markdown",
   "metadata": {},
   "source": [
    "### Plot"
   ]
  },
  {
   "cell_type": "code",
   "execution_count": 6,
   "metadata": {},
   "outputs": [
    {
     "data": {
      "text/plain": [
       "false"
      ]
     },
     "execution_count": 6,
     "metadata": {},
     "output_type": "execute_result"
    }
   ],
   "source": [
    "B_save_fig = false"
   ]
  },
  {
   "cell_type": "code",
   "execution_count": 7,
   "metadata": {
    "scrolled": false
   },
   "outputs": [
    {
     "data": {
      "image/png": "[encoded data removed]",
      "text/plain": [
       "PyPlot.Figure(PyObject <Figure size 800x600 with 1 Axes>)"
      ]
     },
     "metadata": {},
     "output_type": "display_data"
    },
    {
     "name": "stderr",
     "output_type": "stream",
     "text": [
      "┌ Warning: `getindex(o::PyObject, s::AbstractString)` is deprecated in favor of dot overloading (`getproperty`) so elements should now be accessed as e.g. `o.\"s\"` instead of `o[\"s\"]`.\n",
      "│   caller = top-level scope at In[7]:8\n",
      "└ @ Core In[7]:8\n"
     ]
    }
   ],
   "source": [
    "include(\"./utils/dubins_plotting.jl\")\n",
    "bins_vals = [1,2,3,4,5,6,7,8,9,10,11,12,13,14] .+ 0.5\n",
    "xticks_bins = [2,4,6,8,10,12,14] .+ 0.5\n",
    "\n",
    "fig = plt.figure(figsize=[8,6])\n",
    "fig.subplots_adjust(bottom=0.2)\n",
    "PyPlot.rc(\"text\", usetex=true)\n",
    "rcParams = PyDict(plt.matplotlib[\"rcParams\"])\n",
    "rcParams[\"font.size\"] = 26\n",
    "rcParams[\"font.family\"] = \"Helvetica\"\n",
    "\n",
    "facecolor=(1,1,1,0)\n",
    "plt.hist(it_scp,   bins_vals, normed=false, label=\"SCP only\", alpha=0.7, color=\"orange\")\n",
    "plt.hist(it_shoot, bins_vals, normed=false, label=\"SCP +\\nshooting\", \n",
    "                                                color=facecolor,\n",
    "                                                edgecolor=\"b\", linewidth=2)\n",
    "\n",
    "bins_vals_ticks = xticks_bins .- 0.5\n",
    "plt.xticks(bins_vals_ticks, fontsize=34)\n",
    "plt.yticks(fontsize=34)\n",
    "# plt.grid()\n",
    "plt.legend()\n",
    "plt.xlabel(L\"$\\#$ SCP iterations\", fontsize=34)\n",
    "\n",
    "if B_save_fig\n",
    "    fn_fig = \"./results/dubins/free_tf/fixed_final_theta/histo_fixedThetaFinal.png\"\n",
    "    plt.savefig(fn_fig)\n",
    "end"
   ]
  },
  {
   "cell_type": "markdown",
   "metadata": {},
   "source": [
    "# Free final angle"
   ]
  },
  {
   "cell_type": "markdown",
   "metadata": {},
   "source": [
    "### Import data"
   ]
  },
  {
   "cell_type": "code",
   "execution_count": 8,
   "metadata": {},
   "outputs": [
    {
     "name": "stdout",
     "output_type": "stream",
     "text": [
      "SCP only: Success: 100 / 100, Nb. itr: mean=8.72\n",
      "Shooting: Success: 100 / 100, Nb. itr: mean=5.3\n",
      "Data loaded !\n"
     ]
    }
   ],
   "source": [
    "fn_scp = \"./results/dubins/free_tf/free_final_theta/SCP_only.jld\"\n",
    "_, _, _, succ_scp, it_scp, tr_scp, N_MC = extract_saved_SCP_results(fn_scp)\n",
    "println(\"SCP only: Success: $(sum(succ_scp)) / $N_MC, Nb. itr: mean=$(mean(it_scp))\")\n",
    "\n",
    "fn_shoot = \"./results/dubins/free_tf/free_final_theta/SCP_shooting.jld\"\n",
    "_, _, _, succ_shoot, it_shoot, _, N_MC = extract_saved_SCP_results(fn_shoot)\n",
    "println(\"Shooting: Success: $(sum(succ_shoot)) / $N_MC, Nb. itr: mean=$(mean(it_shoot))\")\n",
    "\n",
    "println(\"Data loaded !\")"
   ]
  },
  {
   "cell_type": "markdown",
   "metadata": {},
   "source": [
    "### Plot"
   ]
  },
  {
   "cell_type": "code",
   "execution_count": 9,
   "metadata": {
    "scrolled": false
   },
   "outputs": [
    {
     "data": {
      "image/png": "[encoded data removed]",
      "text/plain": [
       "PyPlot.Figure(PyObject <Figure size 800x600 with 1 Axes>)"
      ]
     },
     "metadata": {},
     "output_type": "display_data"
    },
    {
     "name": "stderr",
     "output_type": "stream",
     "text": [
      "┌ Warning: `getindex(o::PyObject, s::AbstractString)` is deprecated in favor of dot overloading (`getproperty`) so elements should now be accessed as e.g. `o.\"s\"` instead of `o[\"s\"]`.\n",
      "│   caller = top-level scope at In[9]:8\n",
      "└ @ Core In[9]:8\n"
     ]
    }
   ],
   "source": [
    "include(\"./utils/dubins_plotting.jl\")\n",
    "bins_vals = [1,2,3,4,5,6,7,8,9,10,11,12,13,14] .+ 0.5\n",
    "xticks_bins = [2,4,6,8,10,12,14] .+ 0.5\n",
    "\n",
    "fig = plt.figure(figsize=[8,6])\n",
    "fig.subplots_adjust(bottom=0.2)\n",
    "PyPlot.rc(\"text\", usetex=true)\n",
    "rcParams = PyDict(plt.matplotlib[\"rcParams\"])\n",
    "rcParams[\"font.size\"] = 26\n",
    "rcParams[\"font.family\"] = \"Helvetica\"\n",
    "\n",
    "facecolor=(1,1,1,0)\n",
    "plt.hist(it_scp,   bins_vals, normed=false, label=\"SCP only\", alpha=0.7, color=\"orange\")\n",
    "plt.hist(it_shoot, bins_vals, normed=false, label=\"SCP +\\nshooting\", \n",
    "                                                color=facecolor,\n",
    "                                                edgecolor=\"b\", linewidth=2)\n",
    "\n",
    "bins_vals_ticks = xticks_bins .- 0.5\n",
    "plt.xticks(bins_vals_ticks, fontsize=34)\n",
    "plt.yticks(fontsize=34)\n",
    "# plt.grid()\n",
    "plt.legend()\n",
    "plt.xlabel(L\"$\\#$ SCP iterations\", fontsize=34)\n",
    "\n",
    "if B_save_fig\n",
    "    fn_fig = \"./results/dubins/free_tf/free_final_theta/histo_freeThetaFinal.png\"\n",
    "    plt.savefig(fn_fig)\n",
    "end"
   ]
  }
 ],
 "metadata": {
  "kernelspec": {
   "display_name": "Julia 1.4.1",
   "language": "julia",
   "name": "julia-1.4"
  },
  "language_info": {
   "file_extension": ".jl",
   "mimetype": "application/julia",
   "name": "julia",
   "version": "1.4.1"
  }
 },
 "nbformat": 4,
 "nbformat_minor": 2
}
